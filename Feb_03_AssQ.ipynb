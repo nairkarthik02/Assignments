{
  "nbformat": 4,
  "nbformat_minor": 0,
  "metadata": {
    "colab": {
      "provenance": [],
      "authorship_tag": "ABX9TyNDUFfsGUpFuFoqzkfuL3HQ",
      "include_colab_link": true
    },
    "kernelspec": {
      "name": "python3",
      "display_name": "Python 3"
    },
    "language_info": {
      "name": "python"
    }
  },
  "cells": [
    {
      "cell_type": "markdown",
      "metadata": {
        "id": "view-in-github",
        "colab_type": "text"
      },
      "source": [
        "<a href=\"https://colab.research.google.com/github/nairkarthik02/Assignments/blob/main/Feb_03_AssQ.ipynb\" target=\"_parent\"><img src=\"https://colab.research.google.com/assets/colab-badge.svg\" alt=\"Open In Colab\"/></a>"
      ]
    },
    {
      "cell_type": "markdown",
      "source": [
        "#Q1 Which keyword is used to create a function? Create a function to return a list of odd numbers in the range of 1 to 25."
      ],
      "metadata": {
        "id": "VVGFcpZN_rsc"
      }
    },
    {
      "cell_type": "markdown",
      "source": [
        "'def' keyword is used to define a function. "
      ],
      "metadata": {
        "id": "eRb6ocI7AAfp"
      }
    },
    {
      "cell_type": "code",
      "execution_count": 1,
      "metadata": {
        "colab": {
          "base_uri": "https://localhost:8080/"
        },
        "id": "WfJpqkGg_cvM",
        "outputId": "fdde7569-6db8-4219-9951-450520012b9c"
      },
      "outputs": [
        {
          "output_type": "stream",
          "name": "stdout",
          "text": [
            "[1, 3, 5, 7, 9, 11, 13, 15, 17, 19, 21, 23, 25]\n"
          ]
        }
      ],
      "source": [
        "def odd_numbers(n):\n",
        "    odd_list = []\n",
        "    for i in range(1, n+1):\n",
        "        if i % 2 != 0:\n",
        "            odd_list.append(i)\n",
        "    return odd_list\n",
        "print(odd_numbers(25))\n"
      ]
    },
    {
      "cell_type": "markdown",
      "source": [
        "#Q2 Why *args and **kwargs is used in some functions? Create a function each for *args and **kwargs to demonstrate their use."
      ],
      "metadata": {
        "id": "iPeCHjR1AoLq"
      }
    },
    {
      "cell_type": "markdown",
      "source": [
        "**args and **kwargs are used to pass a variable number of arguments to a function."
      ],
      "metadata": {
        "id": "h3BM-OIgBjrI"
      }
    },
    {
      "cell_type": "markdown",
      "source": [
        "*args in function definitions in python is used to pass a variable number of arguments to a function. It is used to pass a non-key worded, variable-length argument list. "
      ],
      "metadata": {
        "id": "AY_MMOlIB81I"
      }
    },
    {
      "cell_type": "code",
      "source": [
        "def print_arguments(*args):\n",
        "    for arg in args:\n",
        "        print(arg)\n",
        "print_arguments(1, \"Woahh\", [1, 2, 3], (4, 5, 6))\n"
      ],
      "metadata": {
        "colab": {
          "base_uri": "https://localhost:8080/"
        },
        "id": "FrPBSuVPBiLy",
        "outputId": "d1c97159-4416-4d1e-85af-c23d644a2f03"
      },
      "execution_count": 9,
      "outputs": [
        {
          "output_type": "stream",
          "name": "stdout",
          "text": [
            "1\n",
            "Woahh\n",
            "[1, 2, 3]\n",
            "(4, 5, 6)\n"
          ]
        }
      ]
    },
    {
      "cell_type": "markdown",
      "source": [
        "**kwargs in function definitions in python is used to pass a keyworded, variable-length argument list"
      ],
      "metadata": {
        "id": "HBhvMY3UCPTa"
      }
    },
    {
      "cell_type": "code",
      "source": [
        "def print_keyword_arguments(**kwargs):\n",
        "    for key, value in kwargs.items():\n",
        "        print(f\"{key}: {value}\")\n",
        "print_keyword_arguments(first_name=\"Karthik\", last_name=\"Nair\",Branch=\"CST\")"
      ],
      "metadata": {
        "colab": {
          "base_uri": "https://localhost:8080/"
        },
        "id": "MheMYYUuCAza",
        "outputId": "59ea7134-17c5-41b3-cc00-8901a57b52c3"
      },
      "execution_count": 6,
      "outputs": [
        {
          "output_type": "stream",
          "name": "stdout",
          "text": [
            "first_name: Karthik\n",
            "last_name: Nair\n",
            "Branch: CST\n"
          ]
        }
      ]
    },
    {
      "cell_type": "markdown",
      "source": [
        "#Q3 What is an iterator in python? Name the method used to initialise the iterator object and the method used for iteration. Use these methods to print the first five elements of the given list [2, 4, 6, 8, 10, 12, 14, 16, 18, 20]."
      ],
      "metadata": {
        "id": "LEsq7UzjEMpD"
      }
    },
    {
      "cell_type": "markdown",
      "source": [
        "\n",
        "\n",
        "*   Iterator in Python is an object that is used to iterate over iterable objects like lists, tuples, dicts, and sets.\n",
        "*   The iter() method is called for the initialization of an iterator.\n",
        "*   The next() method is used to iterate over\n",
        "\n",
        "\n"
      ],
      "metadata": {
        "id": "HTDLdJl9ETmw"
      }
    },
    {
      "cell_type": "code",
      "source": [
        "list_given = [2, 4, 6, 8, 10, 12, 14, 16, 18, 20]\n",
        "iterator = iter(list_given)\n",
        "for i in range(0,5):\n",
        "    print(next(iterator))\n"
      ],
      "metadata": {
        "colab": {
          "base_uri": "https://localhost:8080/"
        },
        "id": "Q6btFJznCWfh",
        "outputId": "c639badc-c4e5-4d0f-c857-5e01786e34d4"
      },
      "execution_count": 7,
      "outputs": [
        {
          "output_type": "stream",
          "name": "stdout",
          "text": [
            "2\n",
            "4\n",
            "6\n",
            "8\n",
            "10\n"
          ]
        }
      ]
    },
    {
      "cell_type": "markdown",
      "source": [
        "#Q4 What is a generator function in python? Why yield keyword is used? Give an example of a generator function."
      ],
      "metadata": {
        "id": "OJZmmP5aFgs9"
      }
    },
    {
      "cell_type": "markdown",
      "source": [
        "\n",
        "\n",
        "*   A generator function in Python is a special kind of function that returns a generator iterator, which is a special type of iterator that can only be iterated once.\n",
        "*   The yield keyword is used to specify the values that will be generated by the generator.\n",
        "\n"
      ],
      "metadata": {
        "id": "7MP3DBjHGCz9"
      }
    },
    {
      "cell_type": "code",
      "source": [
        "def squares(limit):\n",
        "    i = 1\n",
        "    while i <= limit:\n",
        "        yield i * i\n",
        "        i += 1\n",
        "sqr = squares(10)\n",
        "for num in sqr:\n",
        "    print(num)\n"
      ],
      "metadata": {
        "colab": {
          "base_uri": "https://localhost:8080/"
        },
        "id": "w0Ms55yDGVdc",
        "outputId": "8470074a-5c60-4f57-f06a-327ad050ac36"
      },
      "execution_count": 8,
      "outputs": [
        {
          "output_type": "stream",
          "name": "stdout",
          "text": [
            "1\n",
            "4\n",
            "9\n",
            "16\n",
            "25\n",
            "36\n",
            "49\n",
            "64\n",
            "81\n",
            "100\n"
          ]
        }
      ]
    },
    {
      "cell_type": "markdown",
      "source": [
        "#Q5 Create a generator function for prime numbers less than 1000. Use the next() method to print the first 20 prime numbers."
      ],
      "metadata": {
        "id": "Y9vz6L3sGzM8"
      }
    },
    {
      "cell_type": "code",
      "source": [
        "def prime():\n",
        "    primes = []\n",
        "    for n in range(2, 1000):\n",
        "        flag_prime = True\n",
        "        for i in primes:\n",
        "            if i > int(n**0.5):\n",
        "                break\n",
        "            if n % i == 0:\n",
        "                flag_prime = False\n",
        "                break\n",
        "        if flag_prime:\n",
        "            primes.append(n)\n",
        "            yield n\n",
        "primes = prime()\n",
        "for i in range(20):\n",
        "    print(next(primes))\n",
        "\n"
      ],
      "metadata": {
        "colab": {
          "base_uri": "https://localhost:8080/"
        },
        "id": "LGkAm6BrFcYT",
        "outputId": "8c9a1138-3529-4432-f6b7-c6c1c0ee05b3"
      },
      "execution_count": 17,
      "outputs": [
        {
          "output_type": "stream",
          "name": "stdout",
          "text": [
            "2\n",
            "3\n",
            "5\n",
            "7\n",
            "11\n",
            "13\n",
            "17\n",
            "19\n",
            "23\n",
            "29\n",
            "31\n",
            "37\n",
            "41\n",
            "43\n",
            "47\n",
            "53\n",
            "59\n",
            "61\n",
            "67\n",
            "71\n"
          ]
        }
      ]
    },
    {
      "cell_type": "code",
      "source": [],
      "metadata": {
        "id": "BNYYMEPSHN57"
      },
      "execution_count": null,
      "outputs": []
    }
  ]
}